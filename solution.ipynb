{
 "cells": [
  {
   "cell_type": "markdown",
   "metadata": {},
   "source": [
    "<div class=\"alert alert-block alert-info\">Adapted from: https://github.com/salmanahmad4u/keras-iris/blob/master/iris_nn.py</div>"
   ]
  },
  {
   "cell_type": "code",
   "execution_count": 48,
   "metadata": {
    "collapsed": true
   },
   "outputs": [],
   "source": [
    "import csv\n",
    "import numpy as np\n",
    "import keras as kr\n",
    "from keras.models import load_model"
   ]
  },
  {
   "cell_type": "markdown",
   "metadata": {},
   "source": [
    "<div class=\"alert alert-block alert-info\">Load the Iris dataset.\n",
    "Data from: https://github.com/mwaskom/seaborn-data/blob/master/iris.csv</div>"
   ]
  },
  {
   "cell_type": "code",
   "execution_count": 49,
   "metadata": {
    "collapsed": true
   },
   "outputs": [],
   "source": [
    "iris = list(csv.reader(open('iris.csv')))[1:]"
   ]
  },
  {
   "cell_type": "markdown",
   "metadata": {},
   "source": [
    "<div class=\"alert alert-block alert-info\">The inputs are four floats: sepal length, sepal width, petal length, petal width.</div>"
   ]
  },
  {
   "cell_type": "code",
   "execution_count": 50,
   "metadata": {
    "collapsed": true
   },
   "outputs": [],
   "source": [
    "inputs  = np.array(iris)[:,:4].astype(np.float)"
   ]
  },
  {
   "cell_type": "markdown",
   "metadata": {},
   "source": [
    "<div class=\"alert alert-block alert-info\">Outputs are initially individual strings: setosa, versicolor or virginica.</div>"
   ]
  },
  {
   "cell_type": "code",
   "execution_count": 51,
   "metadata": {
    "collapsed": true
   },
   "outputs": [],
   "source": [
    "outputs = np.array(iris)[:,4]"
   ]
  },
  {
   "cell_type": "markdown",
   "metadata": {},
   "source": [
    "Convert the output strings to ints."
   ]
  },
  {
   "cell_type": "code",
   "execution_count": 52,
   "metadata": {
    "collapsed": true
   },
   "outputs": [],
   "source": [
    "outputs_vals, outputs_ints = np.unique(outputs, return_inverse=True)"
   ]
  },
  {
   "cell_type": "markdown",
   "metadata": {},
   "source": [
    "# Encode the category integers as binary categorical vairables."
   ]
  },
  {
   "cell_type": "code",
   "execution_count": 53,
   "metadata": {
    "collapsed": true
   },
   "outputs": [],
   "source": [
    "outputs_cats = kr.utils.to_categorical(outputs_ints)"
   ]
  },
  {
   "cell_type": "markdown",
   "metadata": {},
   "source": [
    "# Split the input and output data sets into training and test subsets."
   ]
  },
  {
   "cell_type": "code",
   "execution_count": 54,
   "metadata": {
    "collapsed": true
   },
   "outputs": [],
   "source": [
    "inds = np.random.permutation(len(inputs))\n",
    "train_inds, test_inds = np.array_split(inds, 2)\n",
    "inputs_train, outputs_train = inputs[train_inds], outputs_cats[train_inds]\n",
    "inputs_test,  outputs_test  = inputs[test_inds],  outputs_cats[test_inds]"
   ]
  },
  {
   "cell_type": "markdown",
   "metadata": {},
   "source": [
    "# Create a neural network."
   ]
  },
  {
   "cell_type": "code",
   "execution_count": 55,
   "metadata": {
    "collapsed": true
   },
   "outputs": [],
   "source": [
    "model = kr.models.Sequential()"
   ]
  },
  {
   "cell_type": "markdown",
   "metadata": {},
   "source": [
    "# Add an initial layer with 4 input nodes, and a hidden layer with 16 nodes."
   ]
  },
  {
   "cell_type": "code",
   "execution_count": 56,
   "metadata": {
    "collapsed": true
   },
   "outputs": [],
   "source": [
    "model.add(kr.layers.Dense(16, input_shape=(4,)))"
   ]
  },
  {
   "cell_type": "markdown",
   "metadata": {},
   "source": [
    "# Apply the sigmoid activation function to that layer."
   ]
  },
  {
   "cell_type": "code",
   "execution_count": 57,
   "metadata": {
    "collapsed": true
   },
   "outputs": [],
   "source": [
    "model.add(kr.layers.Activation(\"sigmoid\"))"
   ]
  },
  {
   "cell_type": "markdown",
   "metadata": {},
   "source": [
    "# Add another layer, connected to the layer with 16 nodes, containing three output nodes."
   ]
  },
  {
   "cell_type": "code",
   "execution_count": 58,
   "metadata": {
    "collapsed": true
   },
   "outputs": [],
   "source": [
    "model.add(kr.layers.Dense(3))"
   ]
  },
  {
   "cell_type": "markdown",
   "metadata": {},
   "source": [
    "# Use the softmax activation function there."
   ]
  },
  {
   "cell_type": "code",
   "execution_count": 59,
   "metadata": {
    "collapsed": true
   },
   "outputs": [],
   "source": [
    "model.add(kr.layers.Activation(\"softmax\"))"
   ]
  },
  {
   "cell_type": "markdown",
   "metadata": {},
   "source": [
    "# Configure the model for training.\n",
    "# Uses the adam optimizer and categorical cross entropy as the loss function.\n",
    "# Add in some extra metrics - accuracy being the only one."
   ]
  },
  {
   "cell_type": "code",
   "execution_count": 60,
   "metadata": {
    "collapsed": true
   },
   "outputs": [],
   "source": [
    "model.compile(optimizer=\"adam\", loss=\"categorical_crossentropy\", metrics=[\"accuracy\"])"
   ]
  },
  {
   "cell_type": "markdown",
   "metadata": {},
   "source": [
    "# Fit the model using our training data."
   ]
  },
  {
   "cell_type": "code",
   "execution_count": 61,
   "metadata": {},
   "outputs": [
    {
     "name": "stdout",
     "output_type": "stream",
     "text": [
      "Epoch 1/100\n",
      "75/75 [==============================] - 0s - loss: 1.1042 - acc: 0.3600         \n",
      "Epoch 2/100\n",
      "75/75 [==============================] - 0s - loss: 1.0144 - acc: 0.4933        \n",
      "Epoch 3/100\n",
      "75/75 [==============================] - 0s - loss: 0.9594 - acc: 0.6933     \n",
      "Epoch 4/100\n",
      "75/75 [==============================] - 0s - loss: 0.9112 - acc: 0.6933     \n",
      "Epoch 5/100\n",
      "75/75 [==============================] - 0s - loss: 0.8630 - acc: 0.6933       \n",
      "Epoch 6/100\n",
      "75/75 [==============================] - 0s - loss: 0.8167 - acc: 0.6933       \n",
      "Epoch 7/100\n",
      "75/75 [==============================] - 0s - loss: 0.7757 - acc: 0.6933     \n",
      "Epoch 8/100\n",
      "75/75 [==============================] - 0s - loss: 0.7241 - acc: 0.6933       \n",
      "Epoch 9/100\n",
      "75/75 [==============================] - 0s - loss: 0.6815 - acc: 0.7200     \n",
      "Epoch 10/100\n",
      "75/75 [==============================] - 0s - loss: 0.6404 - acc: 0.7200     \n",
      "Epoch 11/100\n",
      "75/75 [==============================] - 0s - loss: 0.6124 - acc: 0.7200     \n",
      "Epoch 12/100\n",
      "75/75 [==============================] - 0s - loss: 0.5806 - acc: 0.7467     \n",
      "Epoch 13/100\n",
      "75/75 [==============================] - 0s - loss: 0.5597 - acc: 0.8533     \n",
      "Epoch 14/100\n",
      "75/75 [==============================] - 0s - loss: 0.5398 - acc: 0.8000       \n",
      "Epoch 15/100\n",
      "75/75 [==============================] - 0s - loss: 0.5277 - acc: 0.7867     \n",
      "Epoch 16/100\n",
      "75/75 [==============================] - 0s - loss: 0.5091 - acc: 0.7733     \n",
      "Epoch 17/100\n",
      "75/75 [==============================] - 0s - loss: 0.4938 - acc: 0.8667     \n",
      "Epoch 18/100\n",
      "75/75 [==============================] - 0s - loss: 0.4825 - acc: 0.8800     \n",
      "Epoch 19/100\n",
      "75/75 [==============================] - 0s - loss: 0.4732 - acc: 0.8800     \n",
      "Epoch 20/100\n",
      "75/75 [==============================] - 0s - loss: 0.4625 - acc: 0.8533     \n",
      "Epoch 21/100\n",
      "75/75 [==============================] - 0s - loss: 0.4569 - acc: 0.8533     \n",
      "Epoch 22/100\n",
      "75/75 [==============================] - 0s - loss: 0.4495 - acc: 0.8800     \n",
      "Epoch 23/100\n",
      "75/75 [==============================] - 0s - loss: 0.4392 - acc: 0.8400     \n",
      "Epoch 24/100\n",
      "75/75 [==============================] - 0s - loss: 0.4276 - acc: 0.9467     \n",
      "Epoch 25/100\n",
      "75/75 [==============================] - 0s - loss: 0.4191 - acc: 0.8800       \n",
      "Epoch 26/100\n",
      "75/75 [==============================] - 0s - loss: 0.4131 - acc: 0.8800     \n",
      "Epoch 27/100\n",
      "75/75 [==============================] - 0s - loss: 0.4049 - acc: 0.9733     \n",
      "Epoch 28/100\n",
      "75/75 [==============================] - 0s - loss: 0.3989 - acc: 0.9333     \n",
      "Epoch 29/100\n",
      "75/75 [==============================] - 0s - loss: 0.3894 - acc: 0.9733     \n",
      "Epoch 30/100\n",
      "75/75 [==============================] - 0s - loss: 0.3815 - acc: 0.9467     \n",
      "Epoch 31/100\n",
      "75/75 [==============================] - 0s - loss: 0.3776 - acc: 0.9200     \n",
      "Epoch 32/100\n",
      "75/75 [==============================] - 0s - loss: 0.3736 - acc: 0.9067     \n",
      "Epoch 33/100\n",
      "75/75 [==============================] - 0s - loss: 0.3636 - acc: 0.9733     \n",
      "Epoch 34/100\n",
      "75/75 [==============================] - 0s - loss: 0.3551 - acc: 0.9600     \n",
      "Epoch 35/100\n",
      "75/75 [==============================] - 0s - loss: 0.3499 - acc: 0.9733     \n",
      "Epoch 36/100\n",
      "75/75 [==============================] - 0s - loss: 0.3414 - acc: 0.9600     - ETA: 0s - loss: 0.3475 - acc: 0.96\n",
      "Epoch 37/100\n",
      "75/75 [==============================] - 0s - loss: 0.3342 - acc: 0.9600     \n",
      "Epoch 38/100\n",
      "75/75 [==============================] - 0s - loss: 0.3301 - acc: 0.9600     \n",
      "Epoch 39/100\n",
      "75/75 [==============================] - 0s - loss: 0.3203 - acc: 0.9600     \n",
      "Epoch 40/100\n",
      "75/75 [==============================] - 0s - loss: 0.3162 - acc: 0.9600     \n",
      "Epoch 41/100\n",
      "75/75 [==============================] - 0s - loss: 0.3132 - acc: 0.9733     \n",
      "Epoch 42/100\n",
      "75/75 [==============================] - 0s - loss: 0.3044 - acc: 0.9600     \n",
      "Epoch 43/100\n",
      "75/75 [==============================] - 0s - loss: 0.2976 - acc: 0.9600     \n",
      "Epoch 44/100\n",
      "75/75 [==============================] - 0s - loss: 0.2935 - acc: 0.9600     \n",
      "Epoch 45/100\n",
      "75/75 [==============================] - 0s - loss: 0.2872 - acc: 0.9867     \n",
      "Epoch 46/100\n",
      "75/75 [==============================] - 0s - loss: 0.2808 - acc: 0.9600     \n",
      "Epoch 47/100\n",
      "75/75 [==============================] - 0s - loss: 0.2756 - acc: 0.9600     \n",
      "Epoch 48/100\n",
      "75/75 [==============================] - 0s - loss: 0.2728 - acc: 0.9600     \n",
      "Epoch 49/100\n",
      "75/75 [==============================] - 0s - loss: 0.2696 - acc: 0.9733     \n",
      "Epoch 50/100\n",
      "75/75 [==============================] - 0s - loss: 0.2626 - acc: 0.9600     \n",
      "Epoch 51/100\n",
      "75/75 [==============================] - 0s - loss: 0.2566 - acc: 0.9733     \n",
      "Epoch 52/100\n",
      "75/75 [==============================] - 0s - loss: 0.2541 - acc: 0.9467     \n",
      "Epoch 53/100\n",
      "75/75 [==============================] - 0s - loss: 0.2508 - acc: 0.9600     \n",
      "Epoch 54/100\n",
      "75/75 [==============================] - 0s - loss: 0.2423 - acc: 0.9600     \n",
      "Epoch 55/100\n",
      "75/75 [==============================] - 0s - loss: 0.2380 - acc: 0.9600     \n",
      "Epoch 56/100\n",
      "75/75 [==============================] - 0s - loss: 0.2336 - acc: 0.9867     \n",
      "Epoch 57/100\n",
      "75/75 [==============================] - 0s - loss: 0.2296 - acc: 0.9600     \n",
      "Epoch 58/100\n",
      "75/75 [==============================] - 0s - loss: 0.2237 - acc: 0.9600     \n",
      "Epoch 59/100\n",
      "75/75 [==============================] - 0s - loss: 0.2220 - acc: 0.9600     \n",
      "Epoch 60/100\n",
      "75/75 [==============================] - 0s - loss: 0.2165 - acc: 0.9733     \n",
      "Epoch 61/100\n",
      "75/75 [==============================] - 0s - loss: 0.2133 - acc: 0.9600     \n",
      "Epoch 62/100\n",
      "75/75 [==============================] - 0s - loss: 0.2113 - acc: 0.9600     \n",
      "Epoch 63/100\n",
      "75/75 [==============================] - 0s - loss: 0.2051 - acc: 0.9733     \n",
      "Epoch 64/100\n",
      "75/75 [==============================] - 0s - loss: 0.2041 - acc: 0.9867     \n",
      "Epoch 65/100\n",
      "75/75 [==============================] - 0s - loss: 0.1981 - acc: 0.9733     \n",
      "Epoch 66/100\n",
      "75/75 [==============================] - 0s - loss: 0.1959 - acc: 0.9733     \n",
      "Epoch 67/100\n",
      "75/75 [==============================] - 0s - loss: 0.1988 - acc: 0.9600     \n",
      "Epoch 68/100\n",
      "75/75 [==============================] - 0s - loss: 0.1899 - acc: 0.9867     \n",
      "Epoch 69/100\n",
      "75/75 [==============================] - 0s - loss: 0.1903 - acc: 0.9733     \n",
      "Epoch 70/100\n",
      "75/75 [==============================] - 0s - loss: 0.1851 - acc: 0.9600     \n",
      "Epoch 71/100\n",
      "75/75 [==============================] - 0s - loss: 0.1823 - acc: 0.9600     \n",
      "Epoch 72/100\n",
      "75/75 [==============================] - 0s - loss: 0.1776 - acc: 0.9600     \n",
      "Epoch 73/100\n",
      "75/75 [==============================] - 0s - loss: 0.1751 - acc: 0.9867     \n",
      "Epoch 74/100\n",
      "75/75 [==============================] - 0s - loss: 0.1756 - acc: 0.9867     \n",
      "Epoch 75/100\n",
      "75/75 [==============================] - 0s - loss: 0.1704 - acc: 0.9867     \n",
      "Epoch 76/100\n",
      "75/75 [==============================] - 0s - loss: 0.1686 - acc: 0.9733     \n",
      "Epoch 77/100\n",
      "75/75 [==============================] - 0s - loss: 0.1677 - acc: 0.9733     \n",
      "Epoch 78/100\n",
      "75/75 [==============================] - 0s - loss: 0.1604 - acc: 0.9867     \n",
      "Epoch 79/100\n",
      "75/75 [==============================] - 0s - loss: 0.1640 - acc: 0.9600     \n",
      "Epoch 80/100\n",
      "75/75 [==============================] - 0s - loss: 0.1583 - acc: 0.9733     \n",
      "Epoch 81/100\n",
      "75/75 [==============================] - 0s - loss: 0.1570 - acc: 0.9867     \n",
      "Epoch 82/100\n",
      "75/75 [==============================] - 0s - loss: 0.1557 - acc: 0.9600     \n",
      "Epoch 83/100\n",
      "75/75 [==============================] - 0s - loss: 0.1515 - acc: 0.9733     \n",
      "Epoch 84/100\n",
      "75/75 [==============================] - 0s - loss: 0.1501 - acc: 0.9733        \n",
      "Epoch 85/100\n",
      "75/75 [==============================] - 0s - loss: 0.1465 - acc: 0.9733     \n",
      "Epoch 86/100\n",
      "75/75 [==============================] - 0s - loss: 0.1454 - acc: 0.9867     \n",
      "Epoch 87/100\n",
      "75/75 [==============================] - 0s - loss: 0.1450 - acc: 0.9867     \n",
      "Epoch 88/100\n",
      "75/75 [==============================] - 0s - loss: 0.1433 - acc: 0.9867     \n",
      "Epoch 89/100\n",
      "75/75 [==============================] - 0s - loss: 0.1399 - acc: 0.9867     \n",
      "Epoch 90/100\n"
     ]
    },
    {
     "name": "stdout",
     "output_type": "stream",
     "text": [
      "75/75 [==============================] - 0s - loss: 0.1389 - acc: 0.9733     \n",
      "Epoch 91/100\n",
      "75/75 [==============================] - 0s - loss: 0.1373 - acc: 0.9733     \n",
      "Epoch 92/100\n",
      "75/75 [==============================] - 0s - loss: 0.1345 - acc: 0.9867     \n",
      "Epoch 93/100\n",
      "75/75 [==============================] - 0s - loss: 0.1350 - acc: 0.9733     \n",
      "Epoch 94/100\n",
      "75/75 [==============================] - 0s - loss: 0.1337 - acc: 0.9867     \n",
      "Epoch 95/100\n",
      "75/75 [==============================] - 0s - loss: 0.1310 - acc: 0.9600     \n",
      "Epoch 96/100\n",
      "75/75 [==============================] - 0s - loss: 0.1283 - acc: 0.9867     \n",
      "Epoch 97/100\n",
      "75/75 [==============================] - 0s - loss: 0.1288 - acc: 0.9733     \n",
      "Epoch 98/100\n",
      "75/75 [==============================] - 0s - loss: 0.1287 - acc: 0.9600     \n",
      "Epoch 99/100\n",
      "75/75 [==============================] - 0s - loss: 0.1257 - acc: 0.9733     \n",
      "Epoch 100/100\n",
      "75/75 [==============================] - 0s - loss: 0.1301 - acc: 0.9867     \n"
     ]
    },
    {
     "data": {
      "text/plain": [
       "<keras.callbacks.History at 0x24a47a6def0>"
      ]
     },
     "execution_count": 61,
     "metadata": {},
     "output_type": "execute_result"
    }
   ],
   "source": [
    "model.fit(inputs_train, outputs_train, epochs=100, batch_size=1, verbose=1)"
   ]
  },
  {
   "cell_type": "markdown",
   "metadata": {},
   "source": [
    "# Evaluate the model using the test data set."
   ]
  },
  {
   "cell_type": "code",
   "execution_count": 62,
   "metadata": {},
   "outputs": [
    {
     "name": "stdout",
     "output_type": "stream",
     "text": [
      "\r",
      "32/75 [===========>..................] - ETA: 0s"
     ]
    }
   ],
   "source": [
    "loss, accuracy = model.evaluate(inputs_test, outputs_test, verbose=1)"
   ]
  },
  {
   "cell_type": "markdown",
   "metadata": {},
   "source": [
    "# Output the accuracy of the model."
   ]
  },
  {
   "cell_type": "code",
   "execution_count": 63,
   "metadata": {},
   "outputs": [
    {
     "name": "stdout",
     "output_type": "stream",
     "text": [
      "\n",
      "\n",
      "Loss: 0.1145\tAccuracy: 0.9867\n"
     ]
    }
   ],
   "source": [
    "print(\"\\n\\nLoss: %6.4f\\tAccuracy: %6.4f\" % (loss, accuracy))"
   ]
  },
  {
   "cell_type": "markdown",
   "metadata": {},
   "source": [
    "# Predict the class of a single flower."
   ]
  },
  {
   "cell_type": "code",
   "execution_count": 64,
   "metadata": {},
   "outputs": [
    {
     "name": "stdout",
     "output_type": "stream",
     "text": [
      "Actual: [0 1 0]\tEstimated: [0 1 0]\n",
      "That means it's a versicolor\n"
     ]
    }
   ],
   "source": [
    "prediction = np.around(model.predict(np.expand_dims(inputs_test[0], axis=0))).astype(np.int)[0]\n",
    "print(\"Actual: %s\\tEstimated: %s\" % (outputs_test[0].astype(np.int), prediction))\n",
    "print(\"That means it's a %s\" % outputs_vals[prediction.astype(np.bool)][0])"
   ]
  },
  {
   "cell_type": "markdown",
   "metadata": {},
   "source": [
    "# Save the model to a file for later use."
   ]
  },
  {
   "cell_type": "code",
   "execution_count": 65,
   "metadata": {
    "collapsed": true
   },
   "outputs": [],
   "source": [
    "model.save(\"iris_nn.h5\")"
   ]
  },
  {
   "cell_type": "markdown",
   "metadata": {},
   "source": [
    "# Load the model again with: model = load_model(\"iris_nn.h5\")"
   ]
  },
  {
   "cell_type": "code",
   "execution_count": 66,
   "metadata": {},
   "outputs": [],
   "source": [
    "model = load_model(\"iris_nn.h5\")"
   ]
  },
  {
   "cell_type": "code",
   "execution_count": null,
   "metadata": {
    "collapsed": true
   },
   "outputs": [],
   "source": []
  }
 ],
 "metadata": {
  "kernelspec": {
   "display_name": "Python 3",
   "language": "python",
   "name": "python3"
  },
  "language_info": {
   "codemirror_mode": {
    "name": "ipython",
    "version": 3
   },
   "file_extension": ".py",
   "mimetype": "text/x-python",
   "name": "python",
   "nbconvert_exporter": "python",
   "pygments_lexer": "ipython3",
   "version": "3.6.1"
  }
 },
 "nbformat": 4,
 "nbformat_minor": 2
}
